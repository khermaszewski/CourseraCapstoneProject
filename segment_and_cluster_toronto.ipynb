{
 "metadata": {
  "language_info": {
   "codemirror_mode": {
    "name": "ipython",
    "version": 3
   },
   "file_extension": ".py",
   "mimetype": "text/x-python",
   "name": "python",
   "nbconvert_exporter": "python",
   "pygments_lexer": "ipython3",
   "version": "3.8.2"
  },
  "orig_nbformat": 2,
  "kernelspec": {
   "name": "python382jvsc74a57bd07a542ca580817fc4dd55327026e074e2fa0cd470fc5dee9350c2d8b13822db8d",
   "display_name": "Python 3.8.2 32-bit"
  },
  "metadata": {
   "interpreter": {
    "hash": "7a542ca580817fc4dd55327026e074e2fa0cd470fc5dee9350c2d8b13822db8d"
   }
  }
 },
 "nbformat": 4,
 "nbformat_minor": 2,
 "cells": [
  {
   "source": [
    "# Segment and cluster Toronto neighbourhoods\n",
    "### Author: Kazimierz Hermaszewski\n",
    "This notebook does the following:\n",
    "* Scrape Toronto's neighbourhood data from Wikipedia\n",
    "    + Webdata is scraped using the requests, BeautifulSoup and pandas packages"
   ],
   "cell_type": "markdown",
   "metadata": {}
  },
  {
   "source": [
    "## Scrape Toronto's neighbourhood data from Wikipedia"
   ],
   "cell_type": "markdown",
   "metadata": {}
  },
  {
   "cell_type": "code",
   "execution_count": 134,
   "metadata": {},
   "outputs": [
    {
     "output_type": "stream",
     "name": "stdout",
     "text": [
      "Defaulting to user installation because normal site-packages is not writeable\n",
      "Requirement already satisfied: beautifulsoup4 in c:\\users\\kazio\\appdata\\roaming\\python\\python38\\site-packages (4.9.3)\n",
      "Requirement already satisfied: soupsieve>1.2 in c:\\users\\kazio\\appdata\\roaming\\python\\python38\\site-packages (from beautifulsoup4) (2.2.1)\n",
      "WARNING: You are using pip version 21.0; however, version 21.1.2 is available.\n",
      "You should consider upgrading via the 'c:\\program files (x86)\\python38-32\\python.exe -m pip install --upgrade pip' command.\n"
     ]
    }
   ],
   "source": [
    "# install beautiful soup to scrape webpages\n",
    "!pip install beautifulsoup4"
   ]
  },
  {
   "cell_type": "code",
   "execution_count": 135,
   "metadata": {},
   "outputs": [],
   "source": [
    "# import libraries\n",
    "import pandas as pd\n",
    "import requests\n",
    "from bs4 import BeautifulSoup"
   ]
  },
  {
   "cell_type": "code",
   "execution_count": 136,
   "metadata": {
    "tags": []
   },
   "outputs": [],
   "source": [
    "# get webpage content\n",
    "url = 'https://en.wikipedia.org/w/index.php?title=List_of_postal_codes_of_Canada:_M&oldid=1011037969'\n",
    "try:\n",
    "    response = requests.get(url)\n",
    "except requests.exceptions.RequestException as e:\n",
    "    print(f'Error: {e}')"
   ]
  },
  {
   "source": [
    "When building the table below, these assumptions were made:\n",
    "- If there is no assigned borough, the table row is skipped.\n",
    "- If there is no assigned neighbourhood but a borough exists, the borough is assigned as the neighbourhood."
   ],
   "cell_type": "markdown",
   "metadata": {}
  },
  {
   "cell_type": "code",
   "execution_count": 137,
   "metadata": {
    "tags": []
   },
   "outputs": [],
   "source": [
    "# create and read the soup object\n",
    "soup = BeautifulSoup(response.text, 'html.parser')\n",
    "table_list = []\n",
    "table = soup.find('table')\n",
    "\n",
    "# find and transform the table rows\n",
    "for row in table.findAll('tr'):\n",
    "    cell = {}\n",
    "    if row.find('th') is not None:\n",
    "        continue\n",
    "    \n",
    "    postalcode = row.find('td')\n",
    "    borough = postalcode.find_next_sibling()\n",
    "    neighbourhood = borough.find_next_sibling()\n",
    "    \n",
    "    if 'Not assigned' in borough.text.rstrip(): # skip rows if no assigned borough\n",
    "        continue\n",
    "    else: \n",
    "        cell['PostalCode'] = postalcode.text.rstrip()\n",
    "        cell['Borough'] = borough.text.rstrip()\n",
    "\n",
    "        if 'Not assigned' in neighbourhood.text.rstrip(): # if no assigned neighbourhood, set neighbourhood to borough\n",
    "            cell['Neighbourhood'] = borough.text.rstrip()\n",
    "        else:\n",
    "            cell['Neighbourhood'] = neighbourhood.text.rstrip()\n",
    "\n",
    "    table_list.append(cell)\n",
    "\n",
    "# build the dataframe   \n",
    "df = pd.DataFrame(table_list)\n",
    "\n",
    "# replace bad rows\n",
    "df['Borough'] = df['Borough'].replace({'Downtown TorontoStn A PO Boxes25 The Esplanade':'Downtown Toronto Stn A',\n",
    "                                             'East TorontoBusiness reply mail Processing Centre969 Eastern':'East Toronto Business',\n",
    "                                             'EtobicokeNorthwest':'Etobicoke Northwest','East YorkEast Toronto':'East York/East Toronto',\n",
    "                                             'MississaugaCanada Post Gateway Processing Centre':'Mississauga'})\n",
    "df"
   ]
  },
  {
   "cell_type": "code",
   "execution_count": 138,
   "metadata": {},
   "outputs": [
    {
     "output_type": "execute_result",
     "data": {
      "text/plain": [
       "(103, 3)"
      ]
     },
     "metadata": {},
     "execution_count": 138
    }
   ],
   "source": [
    "df.shape"
   ]
  }
 ]
}